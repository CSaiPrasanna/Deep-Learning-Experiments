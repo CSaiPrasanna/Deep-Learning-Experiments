{
  "cells": [
    {
      "cell_type": "code",
      "execution_count": null,
      "metadata": {
        "colab": {
          "background_save": true,
          "base_uri": "https://localhost:8080/"
        },
        "id": "9m8m7tYlgUWe",
        "outputId": "90c3237a-3deb-47ee-d5f9-9025cf8920bf"
      },
      "outputs": [
        {
          "name": "stdout",
          "output_type": "stream",
          "text": [
            "Downloading data from https://storage.googleapis.com/tensorflow/tf-keras-datasets/reuters.npz\n",
            "2110848/2110848 [==============================] - 0s 0us/step\n",
            "Epoch 1/5\n",
            "225/225 [==============================] - 47s 178ms/step - loss: 2.3867 - accuracy: 0.4088 - val_loss: 2.0009 - val_accuracy: 0.4730\n",
            "Epoch 2/5\n",
            "225/225 [==============================] - 40s 179ms/step - loss: 1.8019 - accuracy: 0.5258 - val_loss: 1.7135 - val_accuracy: 0.5698\n",
            "Epoch 3/5\n",
            "225/225 [==============================] - 41s 180ms/step - loss: 1.5952 - accuracy: 0.5889 - val_loss: 1.6086 - val_accuracy: 0.6004\n",
            "Epoch 4/5\n",
            "225/225 [==============================] - 40s 176ms/step - loss: 1.3712 - accuracy: 0.6424 - val_loss: 1.4894 - val_accuracy: 0.6210\n",
            "Epoch 5/5\n",
            "225/225 [==============================] - 40s 175ms/step - loss: 1.1211 - accuracy: 0.7088 - val_loss: 1.3311 - val_accuracy: 0.6778\n",
            "71/71 [==============================] - 1s 21ms/step - loss: 1.4213 - accuracy: 0.6456\n",
            "Test Loss: 1.4213, Test Accuracy: 0.6456\n"
          ]
        }
      ],
      "source": [
        " import numpy as np\n",
        "from tensorflow.keras.datasets import reuters\n",
        "from tensorflow.keras.models import Sequential\n",
        "from tensorflow.keras.layers import Dense, Embedding, LSTM\n",
        "from tensorflow.keras.preprocessing.sequence import pad_sequences\n",
        "from tensorflow.keras.utils import to_categorical\n",
        "from sklearn.model_selection import train_test_split\n",
        "# Load the Reuters dataset\n",
        "max_words = 10000\n",
        "(X_train, y_train), (X_test, y_test) = reuters.load_data(num_words=max_words, test_split=0.2)\n",
        "# Pad sequences to a fixed length\n",
        "max_len = 100\n",
        "X_train = pad_sequences(X_train, maxlen=max_len)\n",
        "X_test = pad_sequences(X_test, maxlen=max_len)\n",
        "# One-hot encode the labels\n",
        "y_train = to_categorical(y_train, num_classes=46) # There are 46 classes in the Reuters dataset\n",
        "y_test = to_categorical(y_test, num_classes=46)\n",
        "# Split the training data into training and validation sets\n",
        "X_train, X_val, y_train, y_val = train_test_split(X_train, y_train, test_size=0.2,\n",
        "random_state=42)\n",
        "# Define a deep neural network model\n",
        "model = Sequential()\n",
        "model.add(Embedding(max_words, 128, input_length=max_len))\n",
        "model.add(LSTM(64, dropout=0.2, recurrent_dropout=0.2))\n",
        "model.add(Dense(46, activation='softmax'))\n",
        "# Compile the model\n",
        "model.compile(optimizer='adam', loss='categorical_crossentropy', metrics=['accuracy'])\n",
        "# Train the model\n",
        "epochs = 5\n",
        "batch_size = 32\n",
        "model.fit(X_train, y_train, validation_data=(X_val, y_val), epochs=epochs,\n",
        "batch_size=batch_size)\n",
        "# Evaluate the model on the test set\n",
        "loss, accuracy = model.evaluate(X_test, y_test)\n",
        "print(f\"Test Loss: {loss:.4f}, Test Accuracy: {accuracy:.4f}\")"
      ]
    }
  ],
  "metadata": {
    "colab": {
      "provenance": []
    },
    "kernelspec": {
      "display_name": "Python 3",
      "name": "python3"
    },
    "language_info": {
      "name": "python"
    }
  },
  "nbformat": 4,
  "nbformat_minor": 0
}