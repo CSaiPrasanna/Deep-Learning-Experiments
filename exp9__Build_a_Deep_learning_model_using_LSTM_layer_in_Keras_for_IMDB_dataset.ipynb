{
  "nbformat": 4,
  "nbformat_minor": 0,
  "metadata": {
    "colab": {
      "provenance": []
    },
    "kernelspec": {
      "name": "python3",
      "display_name": "Python 3"
    },
    "language_info": {
      "name": "python"
    }
  },
  "cells": [
    {
      "cell_type": "code",
      "execution_count": null,
      "metadata": {
        "colab": {
          "base_uri": "https://localhost:8080/"
        },
        "id": "qD0e_yjMi8P-",
        "outputId": "7f589a4e-a9db-4d47-bf07-d900f81d385d"
      },
      "outputs": [
        {
          "output_type": "stream",
          "name": "stdout",
          "text": [
            "Downloading data from https://storage.googleapis.com/tensorflow/tf-keras-datasets/imdb.npz\n",
            "17464789/17464789 [==============================] - 0s 0us/step\n",
            "Epoch 1/5\n",
            "313/313 [==============================] - 41s 122ms/step - loss: 0.4412 - accuracy: 0.7823 - val_loss: 0.3487 - val_accuracy: 0.8544\n",
            "Epoch 2/5\n",
            "313/313 [==============================] - 35s 112ms/step - loss: 0.2378 - accuracy: 0.9096 - val_loss: 0.3182 - val_accuracy: 0.8674\n",
            "Epoch 3/5\n",
            "313/313 [==============================] - 37s 118ms/step - loss: 0.1705 - accuracy: 0.9364 - val_loss: 0.3536 - val_accuracy: 0.8700\n",
            "Epoch 4/5\n",
            "313/313 [==============================] - 37s 118ms/step - loss: 0.1233 - accuracy: 0.9574 - val_loss: 0.3963 - val_accuracy: 0.8640\n",
            "Epoch 5/5\n",
            "313/313 [==============================] - 35s 111ms/step - loss: 0.0944 - accuracy: 0.9679 - val_loss: 0.4522 - val_accuracy: 0.8638\n",
            "782/782 [==============================] - 18s 23ms/step - loss: 0.4996 - accuracy: 0.8517\n",
            "Test Loss: 0.4996, Test Accuracy: 0.8517\n"
          ]
        }
      ],
      "source": [
        "import numpy as np\n",
        "from tensorflow.keras.datasets import imdb\n",
        "from tensorflow.keras.models import Sequential\n",
        "from tensorflow.keras.layers import Embedding, LSTM, Dense\n",
        "from tensorflow.keras.preprocessing.sequence import pad_sequences\n",
        "from tensorflow.keras.utils import to_categorical\n",
        "from sklearn.model_selection import train_test_split\n",
        "# Load the IMDB dataset\n",
        "max_words = 10000\n",
        "max_len = 200\n",
        "(X_train, y_train), (X_test, y_test) = imdb.load_data(num_words=max_words)\n",
        "# Pad sequences to a fixed length\n",
        "X_train = pad_sequences(X_train, maxlen=max_len)\n",
        "X_test = pad_sequences(X_test, maxlen=max_len)\n",
        "# One-hot encode the labels\n",
        "y_train = to_categorical(y_train, num_classes=2)\n",
        "y_test = to_categorical(y_test, num_classes=2)\n",
        "# Split the training data into training and validation sets\n",
        "X_train, X_val, y_train, y_val = train_test_split(X_train, y_train, test_size=0.2,\n",
        "random_state=42)\n",
        "# Define the LSTM model\n",
        "model = Sequential()\n",
        "model.add(Embedding(max_words, 32, input_length=max_len))\n",
        "model.add(LSTM(32))\n",
        "model.add(Dense(2, activation='softmax'))\n",
        "# Compile the model\n",
        "model.compile(optimizer='adam', loss='categorical_crossentropy', metrics=['accuracy'])\n",
        "# Train the model\n",
        "epochs = 5\n",
        "batch_size = 64\n",
        "model.fit(X_train, y_train, validation_data=(X_val, y_val), epochs=epochs,\n",
        "batch_size=batch_size)\n",
        "# Evaluate the model on the test set\n",
        "loss, accuracy = model.evaluate(X_test, y_test)\n",
        "print(f\"Test Loss: {loss:.4f}, Test Accuracy: {accuracy:.4f}\")"
      ]
    }
  ]
}