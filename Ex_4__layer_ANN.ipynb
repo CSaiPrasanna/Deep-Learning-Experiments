{
  "nbformat": 4,
  "nbformat_minor": 0,
  "metadata": {
    "colab": {
      "provenance": []
    },
    "kernelspec": {
      "name": "python3",
      "display_name": "Python 3"
    },
    "language_info": {
      "name": "python"
    }
  },
  "cells": [
    {
      "cell_type": "code",
      "execution_count": null,
      "metadata": {
        "id": "GXc2etk12sdD"
      },
      "outputs": [],
      "source": [
        "import numpy as np"
      ]
    },
    {
      "cell_type": "code",
      "source": [
        "def sigmoid(x):\n",
        "  return 1/(1+np.exp(-x))"
      ],
      "metadata": {
        "id": "AjddoQI43Gi6"
      },
      "execution_count": null,
      "outputs": []
    },
    {
      "cell_type": "code",
      "source": [
        "def sigmoid_derivative(x):\n",
        "  return x*(1-x)"
      ],
      "metadata": {
        "id": "4yskQodX3GmB"
      },
      "execution_count": null,
      "outputs": []
    },
    {
      "cell_type": "code",
      "source": [
        "#define the architecture of the neural network\n",
        "input_size=2\n",
        "hidden_size=3\n",
        "output_size=1\n",
        "learning_rate=0.1"
      ],
      "metadata": {
        "id": "wGohVI1Z3GsX"
      },
      "execution_count": null,
      "outputs": []
    },
    {
      "cell_type": "code",
      "source": [
        "#intilize weights and bais\n",
        "weights_input_hidden=np.random.rand(input_size,hidden_size)\n",
        "biases_hidden=np.zeros((1,hidden_size))\n",
        "weights_hidden_output=np.random.rand(hidden_size,output_size)\n",
        "biases_output=np.zeros((1,output_size))"
      ],
      "metadata": {
        "id": "2nu-V3Tt3Gvo"
      },
      "execution_count": null,
      "outputs": []
    },
    {
      "cell_type": "code",
      "source": [
        "x=np.array([[0,0],[0,1],[1,0],[1,1]])"
      ],
      "metadata": {
        "id": "RAKyLAHB3IX4"
      },
      "execution_count": null,
      "outputs": []
    },
    {
      "cell_type": "code",
      "source": [
        "y=np.array([[0],[1],[1],[0]])"
      ],
      "metadata": {
        "id": "OERN7-dm3Ia_"
      },
      "execution_count": null,
      "outputs": []
    },
    {
      "cell_type": "code",
      "source": [
        "epochs=10000"
      ],
      "metadata": {
        "id": "XlGliDKP3Idu"
      },
      "execution_count": null,
      "outputs": []
    },
    {
      "cell_type": "code",
      "source": [
        "for epoch in range(epochs):\n",
        "  hidden_layer_input=np.dot(x,weights_input_hidden)+biases_hidden\n",
        "  hidden_layer_output=sigmoid(hidden_layer_input)"
      ],
      "metadata": {
        "id": "cwl2OuFO3IhI"
      },
      "execution_count": null,
      "outputs": []
    },
    {
      "cell_type": "code",
      "source": [
        "output_layer_input=np.dot(hidden_layer_output,weights_hidden_output)+biases_output\n",
        "predicted_output=sigmoid(output_layer_input)\n"
      ],
      "metadata": {
        "id": "8_iuH0w93Ij3"
      },
      "execution_count": null,
      "outputs": []
    },
    {
      "cell_type": "code",
      "source": [
        "#calculate\n",
        "loss=0.5*np.mean((y-predicted_output)**2)"
      ],
      "metadata": {
        "id": "TVZ8jTgn3IpI"
      },
      "execution_count": null,
      "outputs": []
    },
    {
      "cell_type": "code",
      "source": [
        "#backward pass (backpropagation)\n",
        "output_error=y-predicted_output\n",
        "output_delta=output_error*sigmoid_derivative(predicted_output)\n",
        "hidden_layer_error=output_delta.dot(weights_hidden_output.T)\n",
        "hidden_layer_delta=hidden_layer_error*sigmoid_derivative(hidden_layer_output)"
      ],
      "metadata": {
        "id": "_fVs5-eJ3Irw"
      },
      "execution_count": null,
      "outputs": []
    },
    {
      "cell_type": "code",
      "source": [
        "#update weights and biases\n",
        "weights_hidden_output+=hidden_layer_output.T.dot(output_delta)*learning_rate\n",
        "biases_output+=np.sum(output_delta,axis=0,keepdims=True)*learning_rate"
      ],
      "metadata": {
        "id": "2jw8w9Eh3IuH"
      },
      "execution_count": null,
      "outputs": []
    },
    {
      "cell_type": "code",
      "source": [
        "weights_input_hidden+=x.T.dot(hidden_layer_delta)*learning_rate\n",
        "biases_hidden+=np.sum(hidden_layer_delta,axis=0,keepdims=True)*learning_rate"
      ],
      "metadata": {
        "id": "Gyv82rQy3IxA"
      },
      "execution_count": null,
      "outputs": []
    },
    {
      "cell_type": "code",
      "source": [
        "if epoch %1000==0:\n",
        "  print(f\"Epoch {epoch},Loss:{loss}\")"
      ],
      "metadata": {
        "id": "5XLXAEmI3I2e"
      },
      "execution_count": null,
      "outputs": []
    },
    {
      "cell_type": "code",
      "source": [
        "test_input=np.array([[0,0],[0,1],[1,0],[1,1]])\n",
        "hidden_layer_input_test=np.dot(test_input,weights_input_hidden)+biases_hidden\n",
        "hidden_layer_output_test=sigmoid(hidden_layer_input_test)"
      ],
      "metadata": {
        "id": "6B7COwkN3I5P"
      },
      "execution_count": null,
      "outputs": []
    },
    {
      "cell_type": "code",
      "source": [
        "output_layer_input_test=np.dot(hidden_layer_output_test,weights_hidden_output)+biases_output\n",
        "predicted_output_test=sigmoid(output_layer_input_test)"
      ],
      "metadata": {
        "id": "BxQdAl75AvFd"
      },
      "execution_count": null,
      "outputs": []
    },
    {
      "cell_type": "code",
      "source": [
        "print(\"\\npredicted output after Training:\")\n",
        "print(predicted_output_test)"
      ],
      "metadata": {
        "colab": {
          "base_uri": "https://localhost:8080/"
        },
        "id": "9V8LcVrAAvM8",
        "outputId": "7e1ff463-0b51-4638-b802-88313a8cc263"
      },
      "execution_count": null,
      "outputs": [
        {
          "output_type": "stream",
          "name": "stdout",
          "text": [
            "\n",
            "predicted output after Training:\n",
            "[[0.70071854]\n",
            " [0.72698196]\n",
            " [0.75158014]\n",
            " [0.77169073]]\n"
          ]
        }
      ]
    },
    {
      "cell_type": "code",
      "source": [
        "import numpy as np\n",
        "def sigmoid(x):\n",
        "  return 1/(1+np.exp(-x))\n",
        "def sigmoid_derivative(x):\n",
        "  return x*(1-x)\n",
        "#define the architecture of the neural network\n",
        "input_size=2\n",
        "hidden_size=3\n",
        "output_size=1\n",
        "learning_rate=0.1\n",
        "#intilize weights and bais\n",
        "weights_input_hidden=np.random.rand(input_size,hidden_size)\n",
        "biases_hidden=np.zeros((1,hidden_size))\n",
        "weights_hidden_output=np.random.rand(hidden_size,output_size)\n",
        "biases_output=np.zeros((1,output_size))\n",
        "x=np.array([[0,0],[0,1],[1,0],[1,1]])\n",
        "y=np.array([[0],[1],[1],[0]])\n",
        "epochs=10000\n",
        "for epoch in range(epochs):\n",
        "  hidden_layer_input=np.dot(x,weights_input_hidden)+biases_hidden\n",
        "  hidden_layer_output=sigmoid(hidden_layer_input)\n",
        "output_layer_input=np.dot(hidden_layer_output,weights_hidden_output)+biases_output\n",
        "predicted_output=sigmoid(output_layer_input)\n",
        "loss=0.5*np.mean((y-predicted_output)**2)\n",
        "#backward pass (backpropagation)\n",
        "output_error=y-predicted_output\n",
        "output_delta=output_error*sigmoid_derivative(predicted_output)\n",
        "hidden_layer_error=output_delta.dot(weights_hidden_output.T)\n",
        "hidden_layer_delta=hidden_layer_error*sigmoid_derivative(hidden_layer_output)\n",
        "#update weights and biases\n",
        "weights_hidden_output+=hidden_layer_output.T.dot(output_delta)*learning_rate\n",
        "biases_output+=np.sum(output_delta,axis=0,keepdims=True)*learning_rate\n",
        "weights_input_hidden+=x.T.dot(hidden_layer_delta)*learning_rate\n",
        "biases_hidden+=np.sum(hidden_layer_delta,axis=0,keepdims=True)*learning_rate\n",
        "if epoch %1000==0:\n",
        "  print(f\"Epoch {epoch},Loss:{loss}\")\n",
        "test_input=np.array([[0,0],[0,1],[1,0],[1,1]])\n",
        "hidden_layer_input_test=np.dot(test_input,weights_input_hidden)+biases_hidden\n",
        "hidden_layer_output_test=sigmoid(hidden_layer_input_test)\n",
        "output_layer_input_test=np.dot(hidden_layer_output_test,weights_hidden_output)+biases_output\n",
        "predicted_output_test=sigmoid(output_layer_input_test)\n",
        "print(\"\\npredicted output after Training:\")\n",
        "print(predicted_output_test)"
      ],
      "metadata": {
        "id": "0eCrN1AIBizN",
        "colab": {
          "base_uri": "https://localhost:8080/"
        },
        "outputId": "0313eff6-7d89-454e-ac52-7f638f989c6f"
      },
      "execution_count": null,
      "outputs": [
        {
          "output_type": "stream",
          "name": "stdout",
          "text": [
            "\n",
            "predicted output after Training:\n",
            "[[0.66611358]\n",
            " [0.67994054]\n",
            " [0.71421133]\n",
            " [0.72490636]]\n"
          ]
        }
      ]
    },
    {
      "cell_type": "code",
      "source": [],
      "metadata": {
        "id": "5FJbBUKlBjsv"
      },
      "execution_count": null,
      "outputs": []
    }
  ]
}