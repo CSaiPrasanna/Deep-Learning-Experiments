{
  "cells": [
    {
      "cell_type": "code",
      "execution_count": null,
      "metadata": {
        "colab": {
          "background_save": true,
          "base_uri": "https://localhost:8080/"
        },
        "id": "GcCB1t63hXfw",
        "outputId": "cf6cb04e-389c-4021-820f-3ba7ac75444b"
      },
      "outputs": [
        {
          "name": "stdout",
          "output_type": "stream",
          "text": [
            "Downloading data from https://storage.googleapis.com/tensorflow/tf-keras-datasets/imdb.npz\n",
            "17464789/17464789 [==============================] - 0s 0us/step\n",
            "Epoch 1/5\n",
            "313/313 [==============================] - 24s 71ms/step - loss: 0.6469 - accuracy: 0.6116 - val_loss: 0.5780 - val_accuracy: 0.7032\n",
            "Epoch 2/5\n",
            "313/313 [==============================] - 19s 61ms/step - loss: 0.4501 - accuracy: 0.7926 - val_loss: 0.4980 - val_accuracy: 0.7764\n",
            "Epoch 3/5\n",
            "313/313 [==============================] - 19s 62ms/step - loss: 0.2795 - accuracy: 0.8832 - val_loss: 0.6923 - val_accuracy: 0.6316\n",
            "Epoch 4/5\n",
            "313/313 [==============================] - 19s 62ms/step - loss: 0.1309 - accuracy: 0.9554 - val_loss: 0.6914 - val_accuracy: 0.7662\n",
            "Epoch 5/5\n",
            "313/313 [==============================] - 19s 61ms/step - loss: 0.0445 - accuracy: 0.9883 - val_loss: 0.8504 - val_accuracy: 0.7456\n",
            "782/782 [==============================] - 10s 13ms/step - loss: 0.8337 - accuracy: 0.7357\n",
            "Test Loss: 0.8337, Test Accuracy: 0.7357\n"
          ]
        }
      ],
      "source": [
        "import numpy as np\n",
        "from tensorflow.keras.datasets import imdb\n",
        "from tensorflow.keras.models import Sequential\n",
        "from tensorflow.keras.layers import Embedding, SimpleRNN, Dense\n",
        "from tensorflow.keras.preprocessing.sequence import pad_sequences\n",
        "from tensorflow.keras.utils import to_categorical\n",
        "from sklearn.model_selection import train_test_split\n",
        "# Load the IMDB dataset\n",
        "max_words = 10000\n",
        "max_len = 200\n",
        "(X_train, y_train), (X_test, y_test) = imdb.load_data(num_words=max_words)\n",
        "# Pad sequences to a fixed length\n",
        "X_train = pad_sequences(X_train, maxlen=max_len)\n",
        "X_test = pad_sequences(X_test, maxlen=max_len)\n",
        "# One-hot encode the labels\n",
        "y_train = to_categorical(y_train, num_classes=2)\n",
        "y_test = to_categorical(y_test, num_classes=2)\n",
        "# Split the training data into training and validation sets\n",
        "X_train, X_val, y_train, y_val = train_test_split(X_train, y_train, test_size=0.2,\n",
        "random_state=42)\n",
        "# Define the RNN model\n",
        "model = Sequential()\n",
        "model.add(Embedding(max_words, 32, input_length=max_len))\n",
        "model.add(SimpleRNN(32))\n",
        "model.add(Dense(2, activation='softmax'))\n",
        "# Compile the model\n",
        "model.compile(optimizer='adam', loss='categorical_crossentropy', metrics=['accuracy'])\n",
        "# Train the model\n",
        "epochs = 5\n",
        "batch_size = 64\n",
        "model.fit(X_train, y_train, validation_data=(X_val, y_val), epochs=epochs,\n",
        "batch_size=batch_size)\n",
        "# Evaluate the model on the test set\n",
        "loss, accuracy = model.evaluate(X_test, y_test)\n",
        "print(f\"Test Loss: {loss:.4f}, Test Accuracy: {accuracy:.4f}\")\n"
      ]
    }
  ],
  "metadata": {
    "colab": {
      "provenance": []
    },
    "kernelspec": {
      "display_name": "Python 3",
      "name": "python3"
    },
    "language_info": {
      "name": "python"
    }
  },
  "nbformat": 4,
  "nbformat_minor": 0
}