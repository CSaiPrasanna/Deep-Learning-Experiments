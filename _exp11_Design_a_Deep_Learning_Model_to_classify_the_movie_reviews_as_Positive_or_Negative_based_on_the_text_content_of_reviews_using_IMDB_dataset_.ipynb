{
  "nbformat": 4,
  "nbformat_minor": 0,
  "metadata": {
    "colab": {
      "provenance": []
    },
    "kernelspec": {
      "name": "python3",
      "display_name": "Python 3"
    },
    "language_info": {
      "name": "python"
    }
  },
  "cells": [
    {
      "cell_type": "code",
      "execution_count": null,
      "metadata": {
        "colab": {
          "base_uri": "https://localhost:8080/"
        },
        "id": "ghurv1KCi6Ax",
        "outputId": "d00e83ec-e911-4802-c5a6-558ad6495933"
      },
      "outputs": [
        {
          "output_type": "stream",
          "name": "stdout",
          "text": [
            "Downloading data from https://storage.googleapis.com/tensorflow/tf-keras-datasets/imdb.npz\n",
            "17464789/17464789 [==============================] - 0s 0us/step\n",
            "Epoch 1/5\n",
            "313/313 [==============================] - 7s 19ms/step - loss: 0.4444 - accuracy: 0.7691 - val_loss: 0.3048 - val_accuracy: 0.8678\n",
            "Epoch 2/5\n",
            "313/313 [==============================] - 4s 13ms/step - loss: 0.1171 - accuracy: 0.9601 - val_loss: 0.3596 - val_accuracy: 0.8600\n",
            "Epoch 3/5\n",
            "313/313 [==============================] - 4s 13ms/step - loss: 0.0136 - accuracy: 0.9979 - val_loss: 0.4496 - val_accuracy: 0.8570\n",
            "Epoch 4/5\n",
            "313/313 [==============================] - 5s 18ms/step - loss: 0.0017 - accuracy: 0.9999 - val_loss: 0.4809 - val_accuracy: 0.8670\n",
            "Epoch 5/5\n",
            "313/313 [==============================] - 4s 13ms/step - loss: 6.4515e-04 - accuracy: 1.0000 - val_loss: 0.5046 - val_accuracy: 0.8688\n",
            "782/782 [==============================] - 3s 4ms/step - loss: 0.5240 - accuracy: 0.8585\n",
            "Test Loss: 0.5240, Test Accuracy: 0.8585\n"
          ]
        }
      ],
      "source": [
        "import numpy as np\n",
        "from tensorflow.keras.datasets import imdb\n",
        "from tensorflow.keras.models import Sequential\n",
        "from tensorflow.keras.layers import Embedding, Flatten, Dense\n",
        "from tensorflow.keras.preprocessing.sequence import pad_sequences\n",
        "from tensorflow.keras.utils import to_categorical\n",
        "from sklearn.model_selection import train_test_split\n",
        "# Load the IMDB dataset\n",
        "max_words = 10000\n",
        "max_len = 200\n",
        "(X_train, y_train), (X_test, y_test) = imdb.load_data(num_words=max_words)\n",
        "# Pad sequences to a fixed length\n",
        "X_train = pad_sequences(X_train, maxlen=max_len)\n",
        "X_test = pad_sequences(X_test, maxlen=max_len)\n",
        "# One-hot encode the labels\n",
        "y_train = to_categorical(y_train, num_classes=2)\n",
        "y_test = to_categorical(y_test, num_classes=2)\n",
        "# Split the training data into training and validation sets\n",
        "X_train, X_val, y_train, y_val = train_test_split(X_train, y_train, test_size=0.2,\n",
        "random_state=42)\n",
        "# Define the deep learning model\n",
        "model = Sequential()\n",
        "model.add(Embedding(max_words, 32, input_length=max_len))\n",
        "model.add(Flatten())\n",
        "model.add(Dense(64, activation='relu'))\n",
        "model.add(Dense(2, activation='softmax'))\n",
        "# Compile the model\n",
        "model.compile(optimizer='adam', loss='categorical_crossentropy', metrics=['accuracy'])\n",
        "# Train the model\n",
        "epochs = 5\n",
        "batch_size = 64\n",
        "model.fit(X_train, y_train, validation_data=(X_val, y_val), epochs=epochs,\n",
        "batch_size=batch_size)\n",
        "# Evaluate the model on the test set\n",
        "loss, accuracy = model.evaluate(X_test, y_test)\n",
        "print(f\"Test Loss: {loss:.4f}, Test Accuracy: {accuracy:.4f}\")"
      ]
    }
  ]
}